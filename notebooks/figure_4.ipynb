{
 "cells": [
  {
   "attachments": {},
   "cell_type": "markdown",
   "metadata": {},
   "source": [
    "# Figure 4. Hierarchical Bayesian model illustration"
   ]
  },
  {
   "cell_type": "markdown",
   "metadata": {},
   "source": [
    "### Imports"
   ]
  },
  {
   "cell_type": "code",
   "execution_count": 1,
   "metadata": {},
   "outputs": [],
   "source": [
    "import warnings\n",
    "warnings.filterwarnings('ignore')"
   ]
  },
  {
   "cell_type": "code",
   "execution_count": 3,
   "metadata": {},
   "outputs": [],
   "source": [
    "import numpy as np \n",
    "import pandas as pd\n",
    "import seaborn as sns\n",
    "import scipy.stats as stats\n",
    "import matplotlib.pyplot as plt\n",
    "\n",
    "from data import load_data\n",
    "from utils import compute_ensemble_bias, vonmises_pdf, circmean, compute_trial_mean, round_df_angles, min_angle, compute_bias_ols\n",
    "from vis import plot_ensemble_bias_by_response, plot_ensemble_bias_by_set_size, get_colorwheel, set_axes_rad, set_export_style, set_axes_aspect, plot_hbm_illustration, plot_data_bias, paired_hist, plot_shaded_error, FREE_COLOR, RAND_COLOR, KAPPA_OBS_PALETTE, plot_model_bias, plot_bias_ols_by_response, plot_bias_ols_by_k\n",
    "from models import fit_vm_by_sub, load_hbm_fit, compute_relative_error, phase_locked_sine, fit_phase_locked_sine, bootstrap_sine_fit, bootstrap_sine_fit_by_sub\n",
    "\n",
    "save_fig = False"
   ]
  },
  {
   "cell_type": "markdown",
   "metadata": {},
   "source": [
    "### Load data"
   ]
  },
  {
   "cell_type": "code",
   "execution_count": 2,
   "metadata": {},
   "outputs": [],
   "source": [
    "## Data loading ##\n",
    "modality = 'color'\n",
    "\n",
    "# continuous datasets\n",
    "df_free_cont = load_data(modality=modality, condition='free', dataset='continuous')\n",
    "df_rand_cont = load_data(modality=modality, condition='rand', dataset='continuous')\n",
    "\n",
    "# discrete datasets\n",
    "df_free_disc = load_data(modality=modality, condition='free', dataset='discrete')\n",
    "df_rand_disc = load_data(modality=modality, condition='rand', dataset='discrete')"
   ]
  },
  {
   "attachments": {},
   "cell_type": "markdown",
   "metadata": {},
   "source": [
    "### Figure 4A. HBM illustration"
   ]
  },
  {
   "cell_type": "code",
   "execution_count": 4,
   "metadata": {},
   "outputs": [
    {
     "data": {
      "image/png": "[encoded data removed]",
      "text/plain": [
       "<Figure size 360x129.6 with 1 Axes>"
      ]
     },
     "metadata": {},
     "output_type": "display_data"
    }
   ],
   "source": [
    "## HBM-1 Illustration ##\n",
    "\n",
    "# values from test fit in notebook 34\n",
    "presented = [-2, -1.5, 1]\n",
    "mus = [-1.82787578, -1.43188571,  0.74040543]\n",
    "kappas = [2.5, 3, 2]\n",
    "ensemble_mean = -1.1998926672734782\n",
    "ensemble_kappa = 4.285093359489942\n",
    "\n",
    "fig, ax = plot_hbm_illustration(presented, mus, kappas, ensemble_mean, ensemble_kappa)\n",
    "\n",
    "ax.set_ylim([0, 1])\n",
    "ax.set_yticks([0, 0.5, 1])\n",
    "ax.spines['left'].set_position(('outward',10))\n",
    "ax.spines['bottom'].set_position(('outward',10))\n",
    "ax.spines['right'].set_visible(False)\n",
    "ax.spines['top'].set_visible(False)\n",
    "\n",
    "set_export_style(fig, [ax], figsize=(5, 1.8))\n",
    "\n",
    "if save_fig:\n",
    "    plt.savefig('../figures/fig_03-01_hbm_illustration.png', bbox_inches='tight', dpi=800)\n",
    "\n",
    "plt.show()"
   ]
  },
  {
   "attachments": {},
   "cell_type": "markdown",
   "metadata": {},
   "source": [
    "### Figure 4B. Set size 1 errors"
   ]
  },
  {
   "cell_type": "code",
   "execution_count": 9,
   "metadata": {},
   "outputs": [
    {
     "data": {
      "image/png": "[encoded data removed]",
      "text/plain": [
       "<Figure size 518.4x129.6 with 1 Axes>"
      ]
     },
     "metadata": {},
     "output_type": "display_data"
    }
   ],
   "source": [
    "## Kappa_obs justification- set_size 1 distributions##\n",
    "\n",
    "# dists\n",
    "x_upper = df_free_cont[df_free_cont['set_size'] == 1]['error_rad'].dropna()\n",
    "x_lower = df_rand_cont[df_rand_cont['set_size'] == 1]['error_rad'].dropna()\n",
    "\n",
    "fig, ax = paired_hist(x_upper, x_lower, bins=90, density=True)\n",
    "\n",
    "# fits\n",
    "kappa_upper = 17\n",
    "kappa_lower = 15\n",
    "x = np.linspace(-np.pi/2, np.pi/2, 100)\n",
    "pdf_upper = vonmises_pdf(x, 0, kappa_upper)\n",
    "pdf_lower = vonmises_pdf(x, 0, kappa_lower)\n",
    "\n",
    "ax.plot(x, pdf_upper, '--', c='k', linewidth=1)\n",
    "ax.plot(x, -pdf_lower, '--', c='k', linewidth=1)\n",
    "\n",
    "# format\n",
    "ax.set_xlim([-np.pi/4, np.pi/4])\n",
    "ax.set_xticks([-np.pi/4, 0, np.pi/4])\n",
    "ax.set_xticklabels([r'$-\\frac{\\pi}{4}$', '0', r'$\\frac{\\pi}{4}$'])\n",
    "ax.set_ylim([-2, 2])\n",
    "ax.set_yticks([-2, 0, 2])\n",
    "ax.set_yticklabels(['2', '0', '2'])\n",
    "\n",
    "ax.spines['left'].set_position(('outward',10))\n",
    "ax.spines['bottom'].set_position(('outward',10))\n",
    "ax.spines['right'].set_visible(False)\n",
    "ax.spines['top'].set_visible(False)\n",
    "\n",
    "set_export_style(fig, [ax])\n",
    "set_axes_aspect(fig, [ax])\n",
    "\n",
    "if save_fig:\n",
    "    plt.savefig('../figures/fig_03-02_ss_1_error_fits.png', bbox_inches='tight', dpi=800)\n",
    "\n",
    "plt.show()"
   ]
  },
  {
   "attachments": {},
   "cell_type": "markdown",
   "metadata": {},
   "source": [
    "### Figure 4B. VM fits to set size 1 errors"
   ]
  },
  {
   "cell_type": "code",
   "execution_count": 5,
   "metadata": {},
   "outputs": [
    {
     "name": "stdout",
     "output_type": "stream",
     "text": [
      "sub 22 complete: 100%|██████████| 22/22 [00:23<00:00,  1.08s/it]\n",
      "sub 39 complete: 100%|██████████| 17/17 [00:18<00:00,  1.09s/it]\n"
     ]
    }
   ],
   "source": [
    "## Kappa_obs justification- vm fitting for all subs ##\n",
    "df_vm_fit_free = fit_vm_by_sub(df_free_cont[df_free_cont['set_size'] == 1])\n",
    "df_vm_fit_free['condition'] = 'free'\n",
    "df_vm_fit_rand = fit_vm_by_sub(df_rand_cont[df_rand_cont['set_size'] == 1])\n",
    "df_vm_fit_rand['condition'] = 'rand'\n",
    "df_vm_fit = pd.concat([df_vm_fit_free, df_vm_fit_rand])"
   ]
  },
  {
   "cell_type": "code",
   "execution_count": 6,
   "metadata": {},
   "outputs": [
    {
     "data": {
      "image/png": "[encoded data removed]",
      "image/svg+xml": "<?xml version=\"1.0\" encoding=\"utf-8\" standalone=\"no\"?>\n<!DOCTYPE svg PUBLIC \"-//W3C//DTD SVG 1.1//EN\"\n  \"http://www.w3.org/Graphics/SVG/1.1/DTD/svg11.dtd\">\n<!-- Created with matplotlib (https://matplotlib.org/) -->\n<svg height=\"122.893937pt\" version=\"1.1\" viewBox=\"0 0 156.240188 122.893937\" width=\"156.240188pt\" xmlns=\"http://www.w3.org/2000/svg\" xmlns:xlink=\"http://www.w3.org/1999/xlink\">\n <metadata>\n  <rdf:RDF xmlns:cc=\"http://creativecommons.org/ns#\" xmlns:dc=\"http://purl.org/dc/elements/1.1/\" xmlns:rdf=\"http://www.w3.org/1999/02/22-rdf-syntax-ns#\">\n   <cc:Work>\n    <dc:type rdf:resource=\"http://purl.org/dc/dcmitype/StillImage\"/>\n    <dc:date>2021-06-19T23:14:16.776673</dc:date>\n    <dc:format>image/svg+xml</dc:format>\n    <dc:creator>\n     <cc:Agent>\n      <dc:title>Matplotlib v3.3.3, https://matplotlib.org/</dc:title>\n     </cc:Agent>\n    </dc:creator>\n   </cc:Work>\n  </rdf:RDF>\n </metadata>\n <defs>\n  <style type=\"text/css\">*{stroke-linecap:butt;stroke-linejoin:round;}</style>\n </defs>\n <g id=\"figure_1\">\n  <g id=\"patch_1\">\n   <path d=\"M 0 122.893937 \nL 156.240188 122.893937 \nL 156.240188 0 \nL 0 0 \nz\n\" style=\"fill:#ffffff;\"/>\n  </g>\n  <g id=\"axes_1\">\n   <g id=\"patch_2\">\n    <path d=\"M 51.192188 109.227141 \nL 149.040188 109.227141 \nL 149.040188 11.379141 \nL 51.192188 11.379141 \nz\n\" style=\"fill:#ffffff;\"/>\n   </g>\n   <g id=\"matplotlib.axis_1\"/>\n   <g id=\"matplotlib.axis_2\">\n    <g id=\"ytick_1\">\n     <g id=\"line2d_1\">\n      <defs>\n       <path d=\"M 0 0 \nL -6 0 \n\" id=\"ma4e5e302fe\" style=\"stroke:#262626;stroke-width:1.25;\"/>\n      </defs>\n      <g>\n       <use style=\"fill:#262626;stroke:#262626;stroke-width:1.25;\" x=\"41.192188\" xlink:href=\"#ma4e5e302fe\" y=\"109.227141\"/>\n      </g>\n     </g>\n     <g id=\"text_1\">\n      <!-- 0 -->\n      <g style=\"fill:#262626;\" transform=\"translate(24.693438 113.406281)scale(0.11 -0.11)\">\n       <defs>\n        <path d=\"M 31.78125 66.40625 \nQ 24.171875 66.40625 20.328125 58.90625 \nQ 16.5 51.421875 16.5 36.375 \nQ 16.5 21.390625 20.328125 13.890625 \nQ 24.171875 6.390625 31.78125 6.390625 \nQ 39.453125 6.390625 43.28125 13.890625 \nQ 47.125 21.390625 47.125 36.375 \nQ 47.125 51.421875 43.28125 58.90625 \nQ 39.453125 66.40625 31.78125 66.40625 \nz\nM 31.78125 74.21875 \nQ 44.046875 74.21875 50.515625 64.515625 \nQ 56.984375 54.828125 56.984375 36.375 \nQ 56.984375 17.96875 50.515625 8.265625 \nQ 44.046875 -1.421875 31.78125 -1.421875 \nQ 19.53125 -1.421875 13.0625 8.265625 \nQ 6.59375 17.96875 6.59375 36.375 \nQ 6.59375 54.828125 13.0625 64.515625 \nQ 19.53125 74.21875 31.78125 74.21875 \nz\n\" id=\"DejaVuSans-48\"/>\n       </defs>\n       <use xlink:href=\"#DejaVuSans-48\"/>\n      </g>\n     </g>\n    </g>\n    <g id=\"ytick_2\">\n     <g id=\"line2d_2\">\n      <g>\n       <use style=\"fill:#262626;stroke:#262626;stroke-width:1.25;\" x=\"41.192188\" xlink:href=\"#ma4e5e302fe\" y=\"60.303141\"/>\n      </g>\n     </g>\n     <g id=\"text_2\">\n      <!-- 12.5 -->\n      <g style=\"fill:#262626;\" transform=\"translate(7.2 64.482281)scale(0.11 -0.11)\">\n       <defs>\n        <path d=\"M 12.40625 8.296875 \nL 28.515625 8.296875 \nL 28.515625 63.921875 \nL 10.984375 60.40625 \nL 10.984375 69.390625 \nL 28.421875 72.90625 \nL 38.28125 72.90625 \nL 38.28125 8.296875 \nL 54.390625 8.296875 \nL 54.390625 0 \nL 12.40625 0 \nz\n\" id=\"DejaVuSans-49\"/>\n        <path d=\"M 19.1875 8.296875 \nL 53.609375 8.296875 \nL 53.609375 0 \nL 7.328125 0 \nL 7.328125 8.296875 \nQ 12.9375 14.109375 22.625 23.890625 \nQ 32.328125 33.6875 34.8125 36.53125 \nQ 39.546875 41.84375 41.421875 45.53125 \nQ 43.3125 49.21875 43.3125 52.78125 \nQ 43.3125 58.59375 39.234375 62.25 \nQ 35.15625 65.921875 28.609375 65.921875 \nQ 23.96875 65.921875 18.8125 64.3125 \nQ 13.671875 62.703125 7.8125 59.421875 \nL 7.8125 69.390625 \nQ 13.765625 71.78125 18.9375 73 \nQ 24.125 74.21875 28.421875 74.21875 \nQ 39.75 74.21875 46.484375 68.546875 \nQ 53.21875 62.890625 53.21875 53.421875 \nQ 53.21875 48.921875 51.53125 44.890625 \nQ 49.859375 40.875 45.40625 35.40625 \nQ 44.1875 33.984375 37.640625 27.21875 \nQ 31.109375 20.453125 19.1875 8.296875 \nz\n\" id=\"DejaVuSans-50\"/>\n        <path d=\"M 10.6875 12.40625 \nL 21 12.40625 \nL 21 0 \nL 10.6875 0 \nz\n\" id=\"DejaVuSans-46\"/>\n        <path d=\"M 10.796875 72.90625 \nL 49.515625 72.90625 \nL 49.515625 64.59375 \nL 19.828125 64.59375 \nL 19.828125 46.734375 \nQ 21.96875 47.46875 24.109375 47.828125 \nQ 26.265625 48.1875 28.421875 48.1875 \nQ 40.625 48.1875 47.75 41.5 \nQ 54.890625 34.8125 54.890625 23.390625 \nQ 54.890625 11.625 47.5625 5.09375 \nQ 40.234375 -1.421875 26.90625 -1.421875 \nQ 22.3125 -1.421875 17.546875 -0.640625 \nQ 12.796875 0.140625 7.71875 1.703125 \nL 7.71875 11.625 \nQ 12.109375 9.234375 16.796875 8.0625 \nQ 21.484375 6.890625 26.703125 6.890625 \nQ 35.15625 6.890625 40.078125 11.328125 \nQ 45.015625 15.765625 45.015625 23.390625 \nQ 45.015625 31 40.078125 35.4375 \nQ 35.15625 39.890625 26.703125 39.890625 \nQ 22.75 39.890625 18.8125 39.015625 \nQ 14.890625 38.140625 10.796875 36.28125 \nz\n\" id=\"DejaVuSans-53\"/>\n       </defs>\n       <use xlink:href=\"#DejaVuSans-49\"/>\n       <use x=\"63.623047\" xlink:href=\"#DejaVuSans-50\"/>\n       <use x=\"127.246094\" xlink:href=\"#DejaVuSans-46\"/>\n       <use x=\"159.033203\" xlink:href=\"#DejaVuSans-53\"/>\n      </g>\n     </g>\n    </g>\n    <g id=\"ytick_3\">\n     <g id=\"line2d_3\">\n      <g>\n       <use style=\"fill:#262626;stroke:#262626;stroke-width:1.25;\" x=\"41.192188\" xlink:href=\"#ma4e5e302fe\" y=\"11.379141\"/>\n      </g>\n     </g>\n     <g id=\"text_3\">\n      <!-- 25 -->\n      <g style=\"fill:#262626;\" transform=\"translate(17.694688 15.558281)scale(0.11 -0.11)\">\n       <use xlink:href=\"#DejaVuSans-50\"/>\n       <use x=\"63.623047\" xlink:href=\"#DejaVuSans-53\"/>\n      </g>\n     </g>\n    </g>\n   </g>\n   <g id=\"line2d_4\">\n    <path clip-path=\"url(#p36b677bc03)\" d=\"M 60.976988 65.23468 \nL 90.331388 65.23468 \n\" style=\"fill:none;stroke:#1a1a1a;stroke-dasharray:5.55,2.4;stroke-dashoffset:0;stroke-width:1.5;\"/>\n   </g>\n   <g id=\"line2d_5\">\n    <path clip-path=\"url(#p36b677bc03)\" d=\"M 109.900988 77.759224 \nL 139.255388 77.759224 \n\" style=\"fill:none;stroke:#1a1a1a;stroke-dasharray:5.55,2.4;stroke-dashoffset:0;stroke-width:1.5;\"/>\n   </g>\n   <g id=\"patch_3\">\n    <path d=\"M 41.192188 109.227141 \nL 41.192188 11.379141 \n\" style=\"fill:none;stroke:#000000;stroke-linecap:square;stroke-linejoin:miter;stroke-width:1.25;\"/>\n   </g>\n   <g id=\"PathCollection_1\">\n    <defs>\n     <path d=\"M 0 2.5 \nC 0.663008 2.5 1.29895 2.236584 1.767767 1.767767 \nC 2.236584 1.29895 2.5 0.663008 2.5 -0 \nC 2.5 -0.663008 2.236584 -1.29895 1.767767 -1.767767 \nC 1.29895 -2.236584 0.663008 -2.5 0 -2.5 \nC -0.663008 -2.5 -1.29895 -2.236584 -1.767767 -1.767767 \nC -2.236584 -1.29895 -2.5 -0.663008 -2.5 0 \nC -2.5 0.663008 -2.236584 1.29895 -1.767767 1.767767 \nC -1.29895 2.236584 -0.663008 2.5 0 2.5 \nz\n\" id=\"C0_0_1b67c2ec57\"/>\n    </defs>\n    <g clip-path=\"url(#p36b677bc03)\">\n     <use style=\"fill:#dd8452;\" x=\"74.73934\" xlink:href=\"#C0_0_1b67c2ec57\" y=\"52.529141\"/>\n    </g>\n    <g clip-path=\"url(#p36b677bc03)\">\n     <use style=\"fill:#dd8452;\" x=\"74.199019\" xlink:href=\"#C0_0_1b67c2ec57\" y=\"58.736362\"/>\n    </g>\n    <g clip-path=\"url(#p36b677bc03)\">\n     <use style=\"fill:#dd8452;\" x=\"74.002759\" xlink:href=\"#C0_0_1b67c2ec57\" y=\"65.334214\"/>\n    </g>\n    <g clip-path=\"url(#p36b677bc03)\">\n     <use style=\"fill:#dd8452;\" x=\"75.571962\" xlink:href=\"#C0_0_1b67c2ec57\" y=\"65.433602\"/>\n    </g>\n    <g clip-path=\"url(#p36b677bc03)\">\n     <use style=\"fill:#dd8452;\" x=\"73.74319\" xlink:href=\"#C0_0_1b67c2ec57\" y=\"67.139135\"/>\n    </g>\n    <g clip-path=\"url(#p36b677bc03)\">\n     <use style=\"fill:#dd8452;\" x=\"75.104726\" xlink:href=\"#C0_0_1b67c2ec57\" y=\"97.193459\"/>\n    </g>\n    <g clip-path=\"url(#p36b677bc03)\">\n     <use style=\"fill:#dd8452;\" x=\"76.439507\" xlink:href=\"#C0_0_1b67c2ec57\" y=\"42.068157\"/>\n    </g>\n    <g clip-path=\"url(#p36b677bc03)\">\n     <use style=\"fill:#dd8452;\" x=\"74.381228\" xlink:href=\"#C0_0_1b67c2ec57\" y=\"94.852236\"/>\n    </g>\n    <g clip-path=\"url(#p36b677bc03)\">\n     <use style=\"fill:#dd8452;\" x=\"75.681287\" xlink:href=\"#C0_0_1b67c2ec57\" y=\"68.814465\"/>\n    </g>\n    <g clip-path=\"url(#p36b677bc03)\">\n     <use style=\"fill:#dd8452;\" x=\"74.339822\" xlink:href=\"#C0_0_1b67c2ec57\" y=\"65.155632\"/>\n    </g>\n    <g clip-path=\"url(#p36b677bc03)\">\n     <use style=\"fill:#dd8452;\" x=\"74.162988\" xlink:href=\"#C0_0_1b67c2ec57\" y=\"53.134329\"/>\n    </g>\n    <g clip-path=\"url(#p36b677bc03)\">\n     <use style=\"fill:#dd8452;\" x=\"76.182305\" xlink:href=\"#C0_0_1b67c2ec57\" y=\"68.883769\"/>\n    </g>\n    <g clip-path=\"url(#p36b677bc03)\">\n     <use style=\"fill:#dd8452;\" x=\"77.813623\" xlink:href=\"#C0_0_1b67c2ec57\" y=\"61.873907\"/>\n    </g>\n    <g clip-path=\"url(#p36b677bc03)\">\n     <use style=\"fill:#dd8452;\" x=\"76.242257\" xlink:href=\"#C0_0_1b67c2ec57\" y=\"52.021566\"/>\n    </g>\n    <g clip-path=\"url(#p36b677bc03)\">\n     <use style=\"fill:#dd8452;\" x=\"73.586126\" xlink:href=\"#C0_0_1b67c2ec57\" y=\"79.407107\"/>\n    </g>\n    <g clip-path=\"url(#p36b677bc03)\">\n     <use style=\"fill:#dd8452;\" x=\"74.60751\" xlink:href=\"#C0_0_1b67c2ec57\" y=\"57.276945\"/>\n    </g>\n    <g clip-path=\"url(#p36b677bc03)\">\n     <use style=\"fill:#dd8452;\" x=\"76.392071\" xlink:href=\"#C0_0_1b67c2ec57\" y=\"71.018186\"/>\n    </g>\n    <g clip-path=\"url(#p36b677bc03)\">\n     <use style=\"fill:#dd8452;\" x=\"73.630808\" xlink:href=\"#C0_0_1b67c2ec57\" y=\"51.612918\"/>\n    </g>\n    <g clip-path=\"url(#p36b677bc03)\">\n     <use style=\"fill:#dd8452;\" x=\"76.026283\" xlink:href=\"#C0_0_1b67c2ec57\" y=\"26.091325\"/>\n    </g>\n    <g clip-path=\"url(#p36b677bc03)\">\n     <use style=\"fill:#dd8452;\" x=\"73.79791\" xlink:href=\"#C0_0_1b67c2ec57\" y=\"84.109442\"/>\n    </g>\n    <g clip-path=\"url(#p36b677bc03)\">\n     <use style=\"fill:#dd8452;\" x=\"76.775562\" xlink:href=\"#C0_0_1b67c2ec57\" y=\"49.534257\"/>\n    </g>\n    <g clip-path=\"url(#p36b677bc03)\">\n     <use style=\"fill:#dd8452;\" x=\"73.657871\" xlink:href=\"#C0_0_1b67c2ec57\" y=\"67.779993\"/>\n    </g>\n   </g>\n   <g id=\"PathCollection_2\">\n    <defs>\n     <path d=\"M 0 2.5 \nC 0.663008 2.5 1.29895 2.236584 1.767767 1.767767 \nC 2.236584 1.29895 2.5 0.663008 2.5 -0 \nC 2.5 -0.663008 2.236584 -1.29895 1.767767 -1.767767 \nC 1.29895 -2.236584 0.663008 -2.5 0 -2.5 \nC -0.663008 -2.5 -1.29895 -2.236584 -1.767767 -1.767767 \nC -2.236584 -1.29895 -2.5 -0.663008 -2.5 0 \nC -2.5 0.663008 -2.236584 1.29895 -1.767767 1.767767 \nC -1.29895 2.236584 -0.663008 2.5 0 2.5 \nz\n\" id=\"C1_0_1412c962c7\"/>\n    </defs>\n    <g clip-path=\"url(#p36b677bc03)\">\n     <use style=\"fill:#4c72b0;\" x=\"125.473677\" xlink:href=\"#C1_0_1412c962c7\" y=\"55.000674\"/>\n    </g>\n    <g clip-path=\"url(#p36b677bc03)\">\n     <use style=\"fill:#4c72b0;\" x=\"126.77319\" xlink:href=\"#C1_0_1412c962c7\" y=\"48.127154\"/>\n    </g>\n    <g clip-path=\"url(#p36b677bc03)\">\n     <use style=\"fill:#4c72b0;\" x=\"124.512201\" xlink:href=\"#C1_0_1412c962c7\" y=\"78.071382\"/>\n    </g>\n    <g clip-path=\"url(#p36b677bc03)\">\n     <use style=\"fill:#4c72b0;\" x=\"122.717639\" xlink:href=\"#C1_0_1412c962c7\" y=\"80.616212\"/>\n    </g>\n    <g clip-path=\"url(#p36b677bc03)\">\n     <use style=\"fill:#4c72b0;\" x=\"122.40187\" xlink:href=\"#C1_0_1412c962c7\" y=\"91.661623\"/>\n    </g>\n    <g clip-path=\"url(#p36b677bc03)\">\n     <use style=\"fill:#4c72b0;\" x=\"124.259406\" xlink:href=\"#C1_0_1412c962c7\" y=\"88.519639\"/>\n    </g>\n    <g clip-path=\"url(#p36b677bc03)\">\n     <use style=\"fill:#4c72b0;\" x=\"125.021329\" xlink:href=\"#C1_0_1412c962c7\" y=\"98.608343\"/>\n    </g>\n    <g clip-path=\"url(#p36b677bc03)\">\n     <use style=\"fill:#4c72b0;\" x=\"124.357437\" xlink:href=\"#C1_0_1412c962c7\" y=\"59.207385\"/>\n    </g>\n    <g clip-path=\"url(#p36b677bc03)\">\n     <use style=\"fill:#4c72b0;\" x=\"126.589257\" xlink:href=\"#C1_0_1412c962c7\" y=\"64.642885\"/>\n    </g>\n    <g clip-path=\"url(#p36b677bc03)\">\n     <use style=\"fill:#4c72b0;\" x=\"123.176271\" xlink:href=\"#C1_0_1412c962c7\" y=\"80.256554\"/>\n    </g>\n    <g clip-path=\"url(#p36b677bc03)\">\n     <use style=\"fill:#4c72b0;\" x=\"125.30399\" xlink:href=\"#C1_0_1412c962c7\" y=\"77.778498\"/>\n    </g>\n    <g clip-path=\"url(#p36b677bc03)\">\n     <use style=\"fill:#4c72b0;\" x=\"125.199526\" xlink:href=\"#C1_0_1412c962c7\" y=\"47.879541\"/>\n    </g>\n    <g clip-path=\"url(#p36b677bc03)\">\n     <use style=\"fill:#4c72b0;\" x=\"122.232004\" xlink:href=\"#C1_0_1412c962c7\" y=\"69.332624\"/>\n    </g>\n    <g clip-path=\"url(#p36b677bc03)\">\n     <use style=\"fill:#4c72b0;\" x=\"124.947658\" xlink:href=\"#C1_0_1412c962c7\" y=\"95.889929\"/>\n    </g>\n    <g clip-path=\"url(#p36b677bc03)\">\n     <use style=\"fill:#4c72b0;\" x=\"124.334639\" xlink:href=\"#C1_0_1412c962c7\" y=\"96.639638\"/>\n    </g>\n    <g clip-path=\"url(#p36b677bc03)\">\n     <use style=\"fill:#4c72b0;\" x=\"124.985101\" xlink:href=\"#C1_0_1412c962c7\" y=\"77.062544\"/>\n    </g>\n    <g clip-path=\"url(#p36b677bc03)\">\n     <use style=\"fill:#4c72b0;\" x=\"122.745535\" xlink:href=\"#C1_0_1412c962c7\" y=\"43.711538\"/>\n    </g>\n   </g>\n  </g>\n </g>\n <defs>\n  <clipPath id=\"p36b677bc03\">\n   <rect height=\"97.848\" width=\"97.848\" x=\"51.192188\" y=\"11.379141\"/>\n  </clipPath>\n </defs>\n</svg>\n",
      "text/plain": [
       "<Figure size 518.4x129.6 with 1 Axes>"
      ]
     },
     "metadata": {},
     "output_type": "display_data"
    },
    {
     "name": "stdout",
     "output_type": "stream",
     "text": [
      "free median: 11.24   rand median: 8.04\n"
     ]
    }
   ],
   "source": [
    "## Kappa_obs justification- kappa estimates for all subs ##\n",
    "free_median = np.round(df_vm_fit_free['kappa_hat'].median(), decimals=2)\n",
    "rand_median = np.round(df_vm_fit_rand['kappa_hat'].median(), decimals=2)\n",
    "\n",
    "ax = sns.stripplot(data=df_vm_fit, y='kappa_hat', x='condition', dodge=True, jitter=0.05, order=['free', 'rand'], palette={'free': FREE_COLOR, 'rand': RAND_COLOR})\n",
    "fig = plt.gcf()\n",
    "median_offset = 0.3 * np.array([-1, 1])\n",
    "\n",
    "for tick, median in zip(ax.get_xticks(), [free_median, rand_median]):\n",
    "    ax.plot([tick, tick] + median_offset, [median, median], '--', c='k')\n",
    "\n",
    "ax.set_ylim([0, 25])\n",
    "ax.set_yticks([0, 12.5, 25])\n",
    "ax.set_yticklabels(['0', '12.5', '25'])\n",
    "ax.set_xlim([-0.5, 1.5])\n",
    "ax.set_xticklabels('')\n",
    "ax.set_xticks([])\n",
    "\n",
    "ax.spines['left'].set_position(('outward',10))\n",
    "ax.spines['bottom'].set_visible(False)\n",
    "ax.spines['right'].set_visible(False)\n",
    "ax.spines['top'].set_visible(False)\n",
    "\n",
    "set_export_style(fig, [ax])\n",
    "set_axes_aspect(fig, [ax])\n",
    "\n",
    "if save_fig:\n",
    "    plt.savefig('../figures/fig_03-03_kappa_fits_by_sub.png', bbox_inches='tight', dpi=800)\n",
    "\n",
    "plt.show()\n",
    "\n",
    "print(f'free median: {free_median}   rand median: {rand_median}')"
   ]
  }
 ],
 "metadata": {
  "interpreter": {
   "hash": "19dc2033a3356011e32d61b7835f242a072eac5244a7a35cf500e1645761158a"
  },
  "jupytext": {
   "formats": "ipynb,jupytext//py"
  },
  "kernelspec": {
   "display_name": "Python 3.9.1 64-bit ('venv': venv)",
   "language": "python",
   "name": "python3"
  },
  "language_info": {
   "codemirror_mode": {
    "name": "ipython",
    "version": 3
   },
   "file_extension": ".py",
   "mimetype": "text/x-python",
   "name": "python",
   "nbconvert_exporter": "python",
   "pygments_lexer": "ipython3",
   "version": "3.10.8 (main, Nov  1 2022, 14:18:21) [GCC 12.2.0]"
  }
 },
 "nbformat": 4,
 "nbformat_minor": 2
}
