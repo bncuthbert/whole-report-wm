{
 "cells": [
  {
   "attachments": {},
   "cell_type": "markdown",
   "metadata": {},
   "source": [
    "# Figure 10. Relative distance distributions (all subs)"
   ]
  },
  {
   "cell_type": "markdown",
   "metadata": {},
   "source": [
    "### Imports"
   ]
  },
  {
   "cell_type": "code",
   "execution_count": null,
   "metadata": {},
   "outputs": [],
   "source": [
    "import warnings\n",
    "warnings.filterwarnings('ignore')"
   ]
  },
  {
   "cell_type": "code",
   "execution_count": 1,
   "metadata": {},
   "outputs": [],
   "source": [
    "import numpy as np \n",
    "import pandas as pd\n",
    "import seaborn as sns\n",
    "import matplotlib.pyplot as plt\n",
    "\n",
    "from data import load_data\n",
    "from utils import get_relative_dist_df, get_kl_df\n",
    "from vis import DISC_EDGES, FREE_COLOR, RAND_COLOR, plot_error_by_set_size, plot_error_by_response, plot_error_by_response_stacked, plot_error_by_response_ecdf, set_axes_labels, set_export_style, plot_paired_error_by_set_size, plot_paired_error_by_response, set_axes_aspect, plot_relative_distance_scatter, paired_hist, set_axes_rad, plot_bootstrapped_kl, plot_paired_relative_distance\n",
    "\n",
    "save_fig = False"
   ]
  },
  {
   "cell_type": "markdown",
   "metadata": {},
   "source": [
    "### Load data"
   ]
  },
  {
   "cell_type": "code",
   "execution_count": 2,
   "metadata": {},
   "outputs": [],
   "source": [
    "### DATASET LOADING ###\n",
    "modality = 'color'\n",
    "set_size = 6 # for response plotting\n",
    "\n",
    "# continuous datasets\n",
    "df_free_cont = load_data(modality=modality, condition='free', dataset='continuous')\n",
    "df_free_cont_6 = df_free_cont[df_free_cont.set_size == set_size].reset_index(drop=True)\n",
    "\n",
    "df_rand_cont = load_data(modality=modality, condition='rand', dataset='continuous')\n",
    "df_rand_cont_6 = df_rand_cont[df_rand_cont.set_size == set_size].reset_index(drop=True)\n",
    "\n",
    "# discrete datasets\n",
    "df_free_disc = load_data(modality=modality, condition='free', dataset='discrete')\n",
    "df_free_disc_6 = df_free_disc[df_free_disc.set_size == set_size].reset_index(drop=True)\n",
    "\n",
    "df_rand_disc = load_data(modality=modality, condition='rand', dataset='discrete')\n",
    "df_rand_disc_6 = df_rand_disc[df_rand_disc.set_size == set_size].reset_index(drop=True)"
   ]
  },
  {
   "cell_type": "code",
   "execution_count": 3,
   "metadata": {},
   "outputs": [
    {
     "name": "stdout",
     "output_type": "stream",
     "text": [
      "free discrete subs: \n",
      " [ 2  3  4  5  6  7  8  9 10 11 12 13 14 15]\n",
      "rand discrete subs: \n",
      " [ 2  3  4  5  6  7  8  9 10 11 12 13 14 15]\n",
      "free continuous subs: \n",
      " [ 1  2  3  4  5  6  7  8  9 10 11 12 13 14 15 16 17 18 19 20 21 22]\n",
      "rand continuous subs: \n",
      " [23 24 25 26 27 28 29 30 31 32 33 34 35 36 37 38 39]\n"
     ]
    }
   ],
   "source": [
    "# subIDs\n",
    "# note that the same participants did both conditions for the discrete task\n",
    "\n",
    "free_disc_subs = np.sort(df_free_disc.subject.unique())\n",
    "rand_disc_subs = np.sort(df_rand_disc.subject.unique())\n",
    "print(f'free discrete subs: \\n {free_disc_subs}')\n",
    "print(f'rand discrete subs: \\n {rand_disc_subs}')\n",
    "\n",
    "free_cont_subs = np.sort(df_free_cont.subject.unique())\n",
    "rand_cont_subs = np.sort(df_rand_cont.subject.unique())\n",
    "print(f'free continuous subs: \\n {free_cont_subs}')\n",
    "print(f'rand continuous subs: \\n {rand_cont_subs}')"
   ]
  },
  {
   "attachments": {},
   "cell_type": "markdown",
   "metadata": {},
   "source": [
    "### Figure 10A. Discrete relative distance distributions"
   ]
  },
  {
   "cell_type": "code",
   "execution_count": 40,
   "metadata": {
    "lines_to_next_cell": 2
   },
   "outputs": [
    {
     "name": "stdout",
     "output_type": "stream",
     "text": [
      "Subject 2\n"
     ]
    },
    {
     "data": {
      "image/png": "[encoded data removed]",
      "text/plain": [
       "<Figure size 720x216 with 5 Axes>"
      ]
     },
     "metadata": {},
     "output_type": "display_data"
    },
    {
     "name": "stdout",
     "output_type": "stream",
     "text": [
      "Subject 3\n"
     ]
    },
    {
     "data": {
      "image/png": "[encoded data removed]",
      "text/plain": [
       "<Figure size 720x216 with 5 Axes>"
      ]
     },
     "metadata": {},
     "output_type": "display_data"
    },
    {
     "name": "stdout",
     "output_type": "stream",
     "text": [
      "Subject 4\n"
     ]
    },
    {
     "data": {
      "image/png": "[encoded data removed]",
      "text/plain": [
       "<Figure size 720x216 with 5 Axes>"
      ]
     },
     "metadata": {},
     "output_type": "display_data"
    },
    {
     "name": "stdout",
     "output_type": "stream",
     "text": [
      "Subject 5\n"
     ]
    },
    {
     "data": {
      "image/png": "[encoded data removed]",
      "text/plain": [
       "<Figure size 720x216 with 5 Axes>"
      ]
     },
     "metadata": {},
     "output_type": "display_data"
    },
    {
     "name": "stdout",
     "output_type": "stream",
     "text": [
      "Subject 6\n"
     ]
    },
    {
     "data": {
      "image/png": "[encoded data removed]",
      "text/plain": [
       "<Figure size 720x216 with 5 Axes>"
      ]
     },
     "metadata": {},
     "output_type": "display_data"
    },
    {
     "name": "stdout",
     "output_type": "stream",
     "text": [
      "Subject 7\n"
     ]
    },
    {
     "data": {
      "image/png": "[encoded data removed]",
      "text/plain": [
       "<Figure size 720x216 with 5 Axes>"
      ]
     },
     "metadata": {},
     "output_type": "display_data"
    },
    {
     "name": "stdout",
     "output_type": "stream",
     "text": [
      "Subject 8\n"
     ]
    },
    {
     "data": {
      "image/png": "[encoded data removed]",
      "text/plain": [
       "<Figure size 720x216 with 5 Axes>"
      ]
     },
     "metadata": {},
     "output_type": "display_data"
    },
    {
     "name": "stdout",
     "output_type": "stream",
     "text": [
      "Subject 9\n"
     ]
    },
    {
     "data": {
      "image/png": "[encoded data removed]",
      "text/plain": [
       "<Figure size 720x216 with 5 Axes>"
      ]
     },
     "metadata": {},
     "output_type": "display_data"
    },
    {
     "name": "stdout",
     "output_type": "stream",
     "text": [
      "Subject 10\n"
     ]
    },
    {
     "data": {
      "image/png": "[encoded data removed]",
      "text/plain": [
       "<Figure size 720x216 with 5 Axes>"
      ]
     },
     "metadata": {},
     "output_type": "display_data"
    },
    {
     "name": "stdout",
     "output_type": "stream",
     "text": [
      "Subject 11\n"
     ]
    },
    {
     "data": {
      "image/png": "[encoded data removed]",
      "text/plain": [
       "<Figure size 720x216 with 5 Axes>"
      ]
     },
     "metadata": {},
     "output_type": "display_data"
    },
    {
     "name": "stdout",
     "output_type": "stream",
     "text": [
      "Subject 12\n"
     ]
    },
    {
     "data": {
      "image/png": "[encoded data removed]",
      "text/plain": [
       "<Figure size 720x216 with 5 Axes>"
      ]
     },
     "metadata": {},
     "output_type": "display_data"
    },
    {
     "name": "stdout",
     "output_type": "stream",
     "text": [
      "Subject 13\n"
     ]
    },
    {
     "data": {
      "image/png": "[encoded data removed]",
      "text/plain": [
       "<Figure size 720x216 with 5 Axes>"
      ]
     },
     "metadata": {},
     "output_type": "display_data"
    },
    {
     "name": "stdout",
     "output_type": "stream",
     "text": [
      "Subject 14\n"
     ]
    },
    {
     "data": {
      "image/png": "[encoded data removed]",
      "text/plain": [
       "<Figure size 720x216 with 5 Axes>"
      ]
     },
     "metadata": {},
     "output_type": "display_data"
    },
    {
     "name": "stdout",
     "output_type": "stream",
     "text": [
      "Subject 15\n"
     ]
    },
    {
     "data": {
      "image/png": "[encoded data removed]",
      "text/plain": [
       "<Figure size 720x216 with 5 Axes>"
      ]
     },
     "metadata": {},
     "output_type": "display_data"
    }
   ],
   "source": [
    "# discrete by sub\n",
    "for sub in free_disc_subs:\n",
    "    free_df = df_free_disc_6[df_free_disc_6['subject'] == sub]\n",
    "    rand_df = df_rand_disc_6[df_rand_disc_6['subject'] == sub]\n",
    "    \n",
    "    fig, axes = plot_paired_relative_distance(free_df, rand_df, \n",
    "                                              bins=DISC_EDGES,\n",
    "                                              split_pi=True,\n",
    "                                              histtype='stepfilled')\n",
    "    for ax in axes[1:]:\n",
    "        ax.set_ylim([-0.4, 0.5])\n",
    "        ax.set_xticks([])\n",
    "        ax.set_xticklabels([])\n",
    "        ax.spines['left'].set_visible(False)\n",
    "        ax.spines['right'].set_visible(False)\n",
    "        ax.spines['top'].set_visible(False)\n",
    "        ax.spines['bottom'].set_visible(False)\n",
    "\n",
    "    axes[0].spines['right'].set_visible(False)\n",
    "    axes[0].spines['top'].set_visible(False)\n",
    "    axes[0].spines['left'].set_position(('outward',10))\n",
    "    axes[0].spines['bottom'].set_position(('outward',10))\n",
    "    axes[0].set_ylim([-0.5, 0.5])\n",
    "    axes[0].set_yticks([-0.5, 0, 0.5])\n",
    "    axes[0].set_yticklabels([0.5, 0, 0.5])\n",
    "    \n",
    "    set_export_style(fig, axes, remove_ticklabels=False, figsize=(10, 3))\n",
    "    set_axes_aspect(fig, axes)\n",
    "    \n",
    "    \n",
    "    if sub != 15 and sub != 8:\n",
    "        axes[0].set_xticks([])\n",
    "        axes[0].set_xticklabels([])\n",
    "        axes[0].spines['bottom'].set_visible(False)\n",
    "        axes[0].set_yticks([])\n",
    "        axes[0].set_yticklabels([])\n",
    "        axes[0].spines['left'].set_visible(False)\n",
    "    \n",
    "    if save_fig:\n",
    "        filename = f'../figures/fig_S03_relative_dists_disc_{sub}.png'\n",
    "        plt.savefig(filename, bbox_inches='tight', dpi=800)\n",
    "    \n",
    "    print(f'Subject {sub}')\n",
    "    plt.show()"
   ]
  },
  {
   "attachments": {},
   "cell_type": "markdown",
   "metadata": {},
   "source": [
    "### Figure 10B. Continuous relative distance distributions"
   ]
  },
  {
   "cell_type": "code",
   "execution_count": 44,
   "metadata": {
    "scrolled": true
   },
   "outputs": [
    {
     "name": "stdout",
     "output_type": "stream",
     "text": [
      "Subjects 1 (top) and 23 (bottom)\n"
     ]
    },
    {
     "data": {
      "image/png": "[encoded data removed]",
      "text/plain": [
       "<Figure size 720x216 with 5 Axes>"
      ]
     },
     "metadata": {},
     "output_type": "display_data"
    },
    {
     "name": "stdout",
     "output_type": "stream",
     "text": [
      "Subjects 2 (top) and 24 (bottom)\n"
     ]
    },
    {
     "data": {
      "image/png": "[encoded data removed]",
      "text/plain": [
       "<Figure size 720x216 with 5 Axes>"
      ]
     },
     "metadata": {},
     "output_type": "display_data"
    },
    {
     "name": "stdout",
     "output_type": "stream",
     "text": [
      "Subjects 3 (top) and 25 (bottom)\n"
     ]
    },
    {
     "data": {
      "image/png": "[encoded data removed]",
      "text/plain": [
       "<Figure size 720x216 with 5 Axes>"
      ]
     },
     "metadata": {},
     "output_type": "display_data"
    },
    {
     "name": "stdout",
     "output_type": "stream",
     "text": [
      "Subjects 4 (top) and 26 (bottom)\n"
     ]
    },
    {
     "data": {
      "image/png": "[encoded data removed]",
      "text/plain": [
       "<Figure size 720x216 with 5 Axes>"
      ]
     },
     "metadata": {},
     "output_type": "display_data"
    },
    {
     "name": "stdout",
     "output_type": "stream",
     "text": [
      "Subjects 5 (top) and 27 (bottom)\n"
     ]
    },
    {
     "data": {
      "image/png": "[encoded data removed]",
      "text/plain": [
       "<Figure size 720x216 with 5 Axes>"
      ]
     },
     "metadata": {},
     "output_type": "display_data"
    },
    {
     "name": "stdout",
     "output_type": "stream",
     "text": [
      "Subjects 6 (top) and 28 (bottom)\n"
     ]
    },
    {
     "data": {
      "image/png": "[encoded data removed]",
      "text/plain": [
       "<Figure size 720x216 with 5 Axes>"
      ]
     },
     "metadata": {},
     "output_type": "display_data"
    },
    {
     "name": "stdout",
     "output_type": "stream",
     "text": [
      "Subjects 7 (top) and 29 (bottom)\n"
     ]
    },
    {
     "data": {
      "image/png": "[encoded data removed]",
      "text/plain": [
       "<Figure size 720x216 with 5 Axes>"
      ]
     },
     "metadata": {},
     "output_type": "display_data"
    },
    {
     "name": "stdout",
     "output_type": "stream",
     "text": [
      "Subjects 8 (top) and 30 (bottom)\n"
     ]
    },
    {
     "data": {
      "image/png": "[encoded data removed]",
      "text/plain": [
       "<Figure size 720x216 with 5 Axes>"
      ]
     },
     "metadata": {},
     "output_type": "display_data"
    },
    {
     "name": "stdout",
     "output_type": "stream",
     "text": [
      "Subjects 9 (top) and 31 (bottom)\n"
     ]
    },
    {
     "data": {
      "image/png": "[encoded data removed]",
      "text/plain": [
       "<Figure size 720x216 with 5 Axes>"
      ]
     },
     "metadata": {},
     "output_type": "display_data"
    },
    {
     "name": "stdout",
     "output_type": "stream",
     "text": [
      "Subjects 10 (top) and 32 (bottom)\n"
     ]
    },
    {
     "data": {
      "image/png": "[encoded data removed]",
      "text/plain": [
       "<Figure size 720x216 with 5 Axes>"
      ]
     },
     "metadata": {},
     "output_type": "display_data"
    },
    {
     "name": "stdout",
     "output_type": "stream",
     "text": [
      "Subjects 11 (top) and 33 (bottom)\n"
     ]
    },
    {
     "data": {
      "image/png": "[encoded data removed]",
      "text/plain": [
       "<Figure size 720x216 with 5 Axes>"
      ]
     },
     "metadata": {},
     "output_type": "display_data"
    },
    {
     "name": "stdout",
     "output_type": "stream",
     "text": [
      "Subjects 12 (top) and 34 (bottom)\n"
     ]
    },
    {
     "data": {
      "image/png": "[encoded data removed]",
      "text/plain": [
       "<Figure size 720x216 with 5 Axes>"
      ]
     },
     "metadata": {},
     "output_type": "display_data"
    },
    {
     "name": "stdout",
     "output_type": "stream",
     "text": [
      "Subjects 13 (top) and 35 (bottom)\n"
     ]
    },
    {
     "data": {
      "image/png": "[encoded data removed]",
      "text/plain": [
       "<Figure size 720x216 with 5 Axes>"
      ]
     },
     "metadata": {},
     "output_type": "display_data"
    },
    {
     "name": "stdout",
     "output_type": "stream",
     "text": [
      "Subjects 14 (top) and 36 (bottom)\n"
     ]
    },
    {
     "data": {
      "image/png": "[encoded data removed]",
      "text/plain": [
       "<Figure size 720x216 with 5 Axes>"
      ]
     },
     "metadata": {},
     "output_type": "display_data"
    },
    {
     "name": "stdout",
     "output_type": "stream",
     "text": [
      "Subjects 15 (top) and 37 (bottom)\n"
     ]
    },
    {
     "data": {
      "image/png": "[encoded data removed]",
      "text/plain": [
       "<Figure size 720x216 with 5 Axes>"
      ]
     },
     "metadata": {},
     "output_type": "display_data"
    },
    {
     "name": "stdout",
     "output_type": "stream",
     "text": [
      "Subjects 16 (top) and 38 (bottom)\n"
     ]
    },
    {
     "data": {
      "image/png": "[encoded data removed]",
      "text/plain": [
       "<Figure size 720x216 with 5 Axes>"
      ]
     },
     "metadata": {},
     "output_type": "display_data"
    },
    {
     "name": "stdout",
     "output_type": "stream",
     "text": [
      "Subjects 17 (top) and 39 (bottom)\n"
     ]
    },
    {
     "data": {
      "image/png": "[encoded data removed]",
      "text/plain": [
       "<Figure size 720x216 with 5 Axes>"
      ]
     },
     "metadata": {},
     "output_type": "display_data"
    }
   ],
   "source": [
    "for free_sub, rand_sub in zip(free_cont_subs[:17], rand_cont_subs):\n",
    "    free_df = df_free_cont_6[df_free_cont_6['subject'] == free_sub]\n",
    "    rand_df = df_rand_cont_6[df_rand_cont_6['subject'] == rand_sub]\n",
    "    \n",
    "    fig, axes = plot_paired_relative_distance(free_df, rand_df,\n",
    "                                             bins=36)\n",
    "    \n",
    "    for ax in axes[1:]:\n",
    "        ax.set_ylim([-0.1, 0.1])\n",
    "        ax.set_xticks([])\n",
    "        ax.set_xticklabels([])\n",
    "        ax.spines['left'].set_visible(False)\n",
    "        ax.spines['right'].set_visible(False)\n",
    "        ax.spines['top'].set_visible(False)\n",
    "        ax.spines['bottom'].set_visible(False)\n",
    "\n",
    "    axes[0].spines['right'].set_visible(False)\n",
    "    axes[0].spines['top'].set_visible(False)\n",
    "    axes[0].spines['left'].set_position(('outward',10))\n",
    "    axes[0].spines['bottom'].set_position(('outward',10))\n",
    "    axes[0].set_ylim([-0.1, 0.1])\n",
    "    axes[0].set_yticks([-0.1, 0, 0.1])\n",
    "    axes[0].set_yticklabels([0.1, 0, 0.1])\n",
    "    \n",
    "    set_axes_aspect(fig, axes)\n",
    "    set_export_style(fig, axes, remove_ticklabels=False, figsize=(10, 3))\n",
    "    \n",
    "    if free_sub != 9 and free_sub != 17:\n",
    "        axes[0].set_xticks([])\n",
    "        axes[0].set_xticklabels([])\n",
    "        axes[0].spines['bottom'].set_visible(False)\n",
    "        axes[0].set_yticks([])\n",
    "        axes[0].set_yticklabels([])\n",
    "        axes[0].spines['left'].set_visible(False)\n",
    "\n",
    "    if save_fig:    \n",
    "        filename = f'../figures/fig_S03_relative_dists_cont_{free_sub}.png'\n",
    "        plt.savefig(filename, bbox_inches='tight', dpi=800)\n",
    "        \n",
    "    print(f'Subjects {free_sub} (top) and {rand_sub} (bottom)')\n",
    "    plt.show()"
   ]
  },
  {
   "cell_type": "code",
   "execution_count": null,
   "metadata": {
    "lines_to_next_cell": 2
   },
   "outputs": [],
   "source": []
  }
 ],
 "metadata": {
  "jupytext": {
   "formats": "ipynb,jupytext//py"
  },
  "kernelspec": {
   "display_name": "venv",
   "language": "python",
   "name": "python3"
  },
  "language_info": {
   "codemirror_mode": {
    "name": "ipython",
    "version": 3
   },
   "file_extension": ".py",
   "mimetype": "text/x-python",
   "name": "python",
   "nbconvert_exporter": "python",
   "pygments_lexer": "ipython3",
   "version": "3.10.8 (main, Nov  1 2022, 14:18:21) [GCC 12.2.0]"
  },
  "vscode": {
   "interpreter": {
    "hash": "19dc2033a3356011e32d61b7835f242a072eac5244a7a35cf500e1645761158a"
   }
  }
 },
 "nbformat": 4,
 "nbformat_minor": 4
}
